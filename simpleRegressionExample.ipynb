{
  "nbformat": 4,
  "nbformat_minor": 0,
  "metadata": {
    "colab": {
      "name": "simpleRegressionExample.ipynb",
      "provenance": [],
      "collapsed_sections": [],
      "authorship_tag": "ABX9TyOr8+kt6KfaNRLpA+8A4Z+L",
      "include_colab_link": true
    },
    "kernelspec": {
      "name": "python3",
      "display_name": "Python 3"
    }
  },
  "cells": [
    {
      "cell_type": "markdown",
      "metadata": {
        "id": "view-in-github",
        "colab_type": "text"
      },
      "source": [
        "<a href=\"https://colab.research.google.com/github/yashwanth-kokkanti/regressionExample/blob/main/simpleRegressionExample.ipynb\" target=\"_parent\"><img src=\"https://colab.research.google.com/assets/colab-badge.svg\" alt=\"Open In Colab\"/></a>"
      ]
    },
    {
      "cell_type": "code",
      "metadata": {
        "colab": {
          "base_uri": "https://localhost:8080/",
          "height": 52
        },
        "id": "-o8EEcz5AzKu",
        "outputId": "a09cafda-32c1-433c-9035-d814efe384b3"
      },
      "source": [
        "## Regression ML Example\r\n",
        "\r\n",
        "''' This tutorial is intended to demonstrate through all the major steps involved in completing an and-to-end Machine Learning project '''\r\n",
        "\r\n",
        "### Major Steps Involved \r\n",
        "\r\n",
        "''' \r\n",
        "Pre-requisites and Resources\r\n",
        "Data Collection and Problem Statement\r\n",
        "Exploratory Data Analysis with Pandas and NumPy\r\n",
        "Data Preparation using Sklearn\r\n",
        "Selecting and Training a few Machine Learning Models\r\n",
        "Cross-Validation and Hyperparameter Tuning using Sklearn\r\n",
        "''' \r\n",
        "\r\n",
        "## Data: Auto MPG dataset taken from UCI repository: \r\n",
        "''' The data concerns city-cycle fuel consumption in miles per gallon, to be predicted in terms of 3 multivalued discrete and 5 continuous attributes '''\r\n",
        "\r\n"
      ],
      "execution_count": 1,
      "outputs": [
        {
          "output_type": "execute_result",
          "data": {
            "application/vnd.google.colaboratory.intrinsic+json": {
              "type": "string"
            },
            "text/plain": [
              "' The data concerns city-cycle fuel consumption in miles per gallon, to be predicted in terms of 3 multivalued discrete and 5 continuous attributes '"
            ]
          },
          "metadata": {
            "tags": []
          },
          "execution_count": 1
        }
      ]
    },
    {
      "cell_type": "code",
      "metadata": {
        "id": "gZyck0FFDbef"
      },
      "source": [
        "## Lets start with imports \r\n",
        "\r\n",
        "import numpy as np\r\n",
        "import pandas as pd\r\n",
        "import matplotlib.pyplot as plt\r\n",
        "import seaborn as sns\r\n",
        "\r\n",
        "%matplotlib inline"
      ],
      "execution_count": 2,
      "outputs": []
    },
    {
      "cell_type": "code",
      "metadata": {
        "id": "LrfF2SD1DlVr"
      },
      "source": [
        "## Get data and define columns \r\n",
        "\r\n",
        "cols = ['MPG','Cylinders','Displacement','Horsepower','Weight',\r\n",
        "                'Acceleration', 'Model Year', 'Origin']\r\n",
        "\r\n",
        "df = pd.read_csv('/content/auto-mpg.data', names=cols, na_values='?', comment='\\t', sep=' ', skipinitialspace=True)\r\n",
        "\r\n",
        "data = df.copy()"
      ],
      "execution_count": 3,
      "outputs": []
    },
    {
      "cell_type": "code",
      "metadata": {
        "colab": {
          "base_uri": "https://localhost:8080/",
          "height": 195
        },
        "id": "1jQh3HXkEW6E",
        "outputId": "141fb682-f25d-46ec-bc9a-50aab9766955"
      },
      "source": [
        "data.head(5)"
      ],
      "execution_count": 4,
      "outputs": [
        {
          "output_type": "execute_result",
          "data": {
            "text/html": [
              "<div>\n",
              "<style scoped>\n",
              "    .dataframe tbody tr th:only-of-type {\n",
              "        vertical-align: middle;\n",
              "    }\n",
              "\n",
              "    .dataframe tbody tr th {\n",
              "        vertical-align: top;\n",
              "    }\n",
              "\n",
              "    .dataframe thead th {\n",
              "        text-align: right;\n",
              "    }\n",
              "</style>\n",
              "<table border=\"1\" class=\"dataframe\">\n",
              "  <thead>\n",
              "    <tr style=\"text-align: right;\">\n",
              "      <th></th>\n",
              "      <th>MPG</th>\n",
              "      <th>Cylinders</th>\n",
              "      <th>Displacement</th>\n",
              "      <th>Horsepower</th>\n",
              "      <th>Weight</th>\n",
              "      <th>Acceleration</th>\n",
              "      <th>Model Year</th>\n",
              "      <th>Origin</th>\n",
              "    </tr>\n",
              "  </thead>\n",
              "  <tbody>\n",
              "    <tr>\n",
              "      <th>0</th>\n",
              "      <td>18.0</td>\n",
              "      <td>8</td>\n",
              "      <td>307.0</td>\n",
              "      <td>130.0</td>\n",
              "      <td>3504.0</td>\n",
              "      <td>12.0</td>\n",
              "      <td>70</td>\n",
              "      <td>1</td>\n",
              "    </tr>\n",
              "    <tr>\n",
              "      <th>1</th>\n",
              "      <td>15.0</td>\n",
              "      <td>8</td>\n",
              "      <td>350.0</td>\n",
              "      <td>165.0</td>\n",
              "      <td>3693.0</td>\n",
              "      <td>11.5</td>\n",
              "      <td>70</td>\n",
              "      <td>1</td>\n",
              "    </tr>\n",
              "    <tr>\n",
              "      <th>2</th>\n",
              "      <td>18.0</td>\n",
              "      <td>8</td>\n",
              "      <td>318.0</td>\n",
              "      <td>150.0</td>\n",
              "      <td>3436.0</td>\n",
              "      <td>11.0</td>\n",
              "      <td>70</td>\n",
              "      <td>1</td>\n",
              "    </tr>\n",
              "    <tr>\n",
              "      <th>3</th>\n",
              "      <td>16.0</td>\n",
              "      <td>8</td>\n",
              "      <td>304.0</td>\n",
              "      <td>150.0</td>\n",
              "      <td>3433.0</td>\n",
              "      <td>12.0</td>\n",
              "      <td>70</td>\n",
              "      <td>1</td>\n",
              "    </tr>\n",
              "    <tr>\n",
              "      <th>4</th>\n",
              "      <td>17.0</td>\n",
              "      <td>8</td>\n",
              "      <td>302.0</td>\n",
              "      <td>140.0</td>\n",
              "      <td>3449.0</td>\n",
              "      <td>10.5</td>\n",
              "      <td>70</td>\n",
              "      <td>1</td>\n",
              "    </tr>\n",
              "  </tbody>\n",
              "</table>\n",
              "</div>"
            ],
            "text/plain": [
              "    MPG  Cylinders  Displacement  ...  Acceleration  Model Year  Origin\n",
              "0  18.0          8         307.0  ...          12.0          70       1\n",
              "1  15.0          8         350.0  ...          11.5          70       1\n",
              "2  18.0          8         318.0  ...          11.0          70       1\n",
              "3  16.0          8         304.0  ...          12.0          70       1\n",
              "4  17.0          8         302.0  ...          10.5          70       1\n",
              "\n",
              "[5 rows x 8 columns]"
            ]
          },
          "metadata": {
            "tags": []
          },
          "execution_count": 4
        }
      ]
    },
    {
      "cell_type": "code",
      "metadata": {
        "id": "JvyXW8xSEYsE"
      },
      "source": [
        "## MPG : Miles Per Gallon is the continuous independant variable to be determined. "
      ],
      "execution_count": 5,
      "outputs": []
    },
    {
      "cell_type": "code",
      "metadata": {
        "colab": {
          "base_uri": "https://localhost:8080/"
        },
        "id": "tg-o9jRZFk73",
        "outputId": "a26c49a6-92bc-4dbd-98f8-142e4373c7be"
      },
      "source": [
        "## Lets do Some EDA \r\n",
        "\r\n",
        "data.info()\r\n",
        "\r\n",
        "## There are null values for HorseoPower "
      ],
      "execution_count": 6,
      "outputs": [
        {
          "output_type": "stream",
          "text": [
            "<class 'pandas.core.frame.DataFrame'>\n",
            "RangeIndex: 398 entries, 0 to 397\n",
            "Data columns (total 8 columns):\n",
            " #   Column        Non-Null Count  Dtype  \n",
            "---  ------        --------------  -----  \n",
            " 0   MPG           398 non-null    float64\n",
            " 1   Cylinders     398 non-null    int64  \n",
            " 2   Displacement  398 non-null    float64\n",
            " 3   Horsepower    392 non-null    float64\n",
            " 4   Weight        398 non-null    float64\n",
            " 5   Acceleration  398 non-null    float64\n",
            " 6   Model Year    398 non-null    int64  \n",
            " 7   Origin        398 non-null    int64  \n",
            "dtypes: float64(5), int64(3)\n",
            "memory usage: 25.0 KB\n"
          ],
          "name": "stdout"
        }
      ]
    },
    {
      "cell_type": "code",
      "metadata": {
        "colab": {
          "base_uri": "https://localhost:8080/"
        },
        "id": "jR5dAdVwF1lv",
        "outputId": "4b38f06e-8653-4c1c-b597-731b22de43f7"
      },
      "source": [
        "data.isnull().sum() \r\n",
        "## HorsePower contains 6 null values and is a float value. So need to imputed with Mean or median or mode"
      ],
      "execution_count": 7,
      "outputs": [
        {
          "output_type": "execute_result",
          "data": {
            "text/plain": [
              "MPG             0\n",
              "Cylinders       0\n",
              "Displacement    0\n",
              "Horsepower      6\n",
              "Weight          0\n",
              "Acceleration    0\n",
              "Model Year      0\n",
              "Origin          0\n",
              "dtype: int64"
            ]
          },
          "metadata": {
            "tags": []
          },
          "execution_count": 7
        }
      ]
    },
    {
      "cell_type": "code",
      "metadata": {
        "colab": {
          "base_uri": "https://localhost:8080/",
          "height": 296
        },
        "id": "J2RrqR_OGCWY",
        "outputId": "b9aac84c-3789-47cc-e5bf-88762f1d3e57"
      },
      "source": [
        "## Check for any outliers in HorsePOwer column\r\n",
        "\r\n",
        "\r\n",
        "\r\n",
        "sns.boxplot(x=data['Horsepower']) \r\n",
        "\r\n",
        "## There are a few outliers "
      ],
      "execution_count": 8,
      "outputs": [
        {
          "output_type": "execute_result",
          "data": {
            "text/plain": [
              "<matplotlib.axes._subplots.AxesSubplot at 0x7f7caaa5b400>"
            ]
          },
          "metadata": {
            "tags": []
          },
          "execution_count": 8
        },
        {
          "output_type": "display_data",
          "data": {
            "image/png": "[encoded data removed]",
            "text/plain": [
              "<Figure size 432x288 with 1 Axes>"
            ]
          },
          "metadata": {
            "tags": [],
            "needs_background": "light"
          }
        }
      ]
    },
    {
      "cell_type": "code",
      "metadata": {
        "colab": {
          "base_uri": "https://localhost:8080/",
          "height": 332
        },
        "id": "gbjLvxiOGaHF",
        "outputId": "bb96ba57-ee55-4331-a67f-e99ed6edab73"
      },
      "source": [
        "plt.hist(data['Horsepower']) ## Clearly it is not normally distributed and a little skew towards right and there are values beyond 200 HP"
      ],
      "execution_count": 9,
      "outputs": [
        {
          "output_type": "execute_result",
          "data": {
            "text/plain": [
              "(array([ 27.,  95., 120.,  44.,  19.,  47.,  13.,  14.,   5.,   8.]),\n",
              " array([ 46. ,  64.4,  82.8, 101.2, 119.6, 138. , 156.4, 174.8, 193.2,\n",
              "        211.6, 230. ]),\n",
              " <a list of 10 Patch objects>)"
            ]
          },
          "metadata": {
            "tags": []
          },
          "execution_count": 9
        },
        {
          "output_type": "display_data",
          "data": {
            "image/png": "[encoded data removed]",
            "text/plain": [
              "<Figure size 432x288 with 1 Axes>"
            ]
          },
          "metadata": {
            "tags": [],
            "needs_background": "light"
          }
        }
      ]
    },
    {
      "cell_type": "code",
      "metadata": {
        "colab": {
          "base_uri": "https://localhost:8080/"
        },
        "id": "K7Ug-fMtG_ZE",
        "outputId": "2fc85e5e-5fe9-4ad7-fded-2358a3ee710b"
      },
      "source": [
        "## Since there are few outliers , let us go with the median imputation. \r\n",
        "\r\n",
        "data['Horsepower'] = data['Horsepower'].fillna(data['Horsepower'].median())\r\n",
        "\r\n",
        "data.isnull().sum()\r\n",
        "\r\n",
        "## Missing values are removed now"
      ],
      "execution_count": 10,
      "outputs": [
        {
          "output_type": "execute_result",
          "data": {
            "text/plain": [
              "MPG             0\n",
              "Cylinders       0\n",
              "Displacement    0\n",
              "Horsepower      0\n",
              "Weight          0\n",
              "Acceleration    0\n",
              "Model Year      0\n",
              "Origin          0\n",
              "dtype: int64"
            ]
          },
          "metadata": {
            "tags": []
          },
          "execution_count": 10
        }
      ]
    },
    {
      "cell_type": "code",
      "metadata": {
        "colab": {
          "base_uri": "https://localhost:8080/"
        },
        "id": "RayGGy9MHkG7",
        "outputId": "f3efb501-1ba5-4b73-bca5-cb9006c76552"
      },
      "source": [
        "## Let us explore categorical variables . In data Cylinders, origin represents cateogrical data. \r\n",
        "\r\n",
        "print (data[\"Cylinders\"].value_counts() )\r\n",
        "data['Origin'].value_counts()\r\n",
        "\r\n",
        "## This explains about the categories of Cylinders and Origin columns and how many values are present in it . "
      ],
      "execution_count": 11,
      "outputs": [
        {
          "output_type": "stream",
          "text": [
            "4    204\n",
            "8    103\n",
            "6     84\n",
            "3      4\n",
            "5      3\n",
            "Name: Cylinders, dtype: int64\n"
          ],
          "name": "stdout"
        },
        {
          "output_type": "execute_result",
          "data": {
            "text/plain": [
              "1    249\n",
              "3     79\n",
              "2     70\n",
              "Name: Origin, dtype: int64"
            ]
          },
          "metadata": {
            "tags": []
          },
          "execution_count": 11
        }
      ]
    },
    {
      "cell_type": "code",
      "metadata": {
        "colab": {
          "base_uri": "https://localhost:8080/",
          "height": 1000
        },
        "id": "mn6z_oT_IQcF",
        "outputId": "47799699-8b2e-4e87-cb2c-d2f3bf6ce6c7"
      },
      "source": [
        "## Correlation Plot \r\n",
        "\r\n",
        "sns.pairplot(data[[\"MPG\", \"Cylinders\", \"Displacement\", \"Weight\", \"Horsepower\", \"Acceleration\"]], diag_kind=\"kde\")"
      ],
      "execution_count": 12,
      "outputs": [
        {
          "output_type": "execute_result",
          "data": {
            "text/plain": [
              "<seaborn.axisgrid.PairGrid at 0x7f7caa50c4a8>"
            ]
          },
          "metadata": {
            "tags": []
          },
          "execution_count": 12
        },
        {
          "output_type": "display_data",
          "data": {
            "image/png": "[encoded data removed]",
            "text/plain": [
              "<Figure size 1080x1080 with 42 Axes>"
            ]
          },
          "metadata": {
            "tags": [],
            "needs_background": "light"
          }
        }
      ]
    },
    {
      "cell_type": "code",
      "metadata": {
        "id": "O6SKjaMpIuil"
      },
      "source": [
        "### MPG are negatively correlated with Displacement, HorsePower, Weight and little positively related with Acceleration\r\n",
        "\r\n",
        "## Displacement, Weight and Horsepower are positively correleated "
      ],
      "execution_count": 13,
      "outputs": []
    },
    {
      "cell_type": "code",
      "metadata": {
        "id": "nHU2zIzjJgcI"
      },
      "source": [
        "## Split train and test data \r\n",
        "\r\n",
        "from sklearn.model_selection import StratifiedShuffleSplit\r\n",
        "\r\n",
        "## Stratified Shuffle splits data into train and test set with equal proportions of classes \r\n",
        "\r\n",
        "strat = StratifiedShuffleSplit(n_splits=1, test_size=0.2, random_state=42)\r\n",
        "\r\n",
        "for train_index, test_index in strat.split(data, data['Cylinders']):  ## Here we are using Cylinders are Strata to split data\r\n",
        "  strat_train_set = data.loc[train_index ]\r\n",
        "  strat_test_set = data.loc[test_index]\r\n",
        "\r\n"
      ],
      "execution_count": 14,
      "outputs": []
    },
    {
      "cell_type": "code",
      "metadata": {
        "colab": {
          "base_uri": "https://localhost:8080/",
          "height": 195
        },
        "id": "HqvtnDE-Kqbt",
        "outputId": "82c2f8f7-efb0-44e1-e4a1-61ed855f3372"
      },
      "source": [
        "strat_train_set.head(5)"
      ],
      "execution_count": 15,
      "outputs": [
        {
          "output_type": "execute_result",
          "data": {
            "text/html": [
              "<div>\n",
              "<style scoped>\n",
              "    .dataframe tbody tr th:only-of-type {\n",
              "        vertical-align: middle;\n",
              "    }\n",
              "\n",
              "    .dataframe tbody tr th {\n",
              "        vertical-align: top;\n",
              "    }\n",
              "\n",
              "    .dataframe thead th {\n",
              "        text-align: right;\n",
              "    }\n",
              "</style>\n",
              "<table border=\"1\" class=\"dataframe\">\n",
              "  <thead>\n",
              "    <tr style=\"text-align: right;\">\n",
              "      <th></th>\n",
              "      <th>MPG</th>\n",
              "      <th>Cylinders</th>\n",
              "      <th>Displacement</th>\n",
              "      <th>Horsepower</th>\n",
              "      <th>Weight</th>\n",
              "      <th>Acceleration</th>\n",
              "      <th>Model Year</th>\n",
              "      <th>Origin</th>\n",
              "    </tr>\n",
              "  </thead>\n",
              "  <tbody>\n",
              "    <tr>\n",
              "      <th>145</th>\n",
              "      <td>32.0</td>\n",
              "      <td>4</td>\n",
              "      <td>83.0</td>\n",
              "      <td>61.0</td>\n",
              "      <td>2003.0</td>\n",
              "      <td>19.0</td>\n",
              "      <td>74</td>\n",
              "      <td>3</td>\n",
              "    </tr>\n",
              "    <tr>\n",
              "      <th>151</th>\n",
              "      <td>31.0</td>\n",
              "      <td>4</td>\n",
              "      <td>79.0</td>\n",
              "      <td>67.0</td>\n",
              "      <td>2000.0</td>\n",
              "      <td>16.0</td>\n",
              "      <td>74</td>\n",
              "      <td>2</td>\n",
              "    </tr>\n",
              "    <tr>\n",
              "      <th>388</th>\n",
              "      <td>26.0</td>\n",
              "      <td>4</td>\n",
              "      <td>156.0</td>\n",
              "      <td>92.0</td>\n",
              "      <td>2585.0</td>\n",
              "      <td>14.5</td>\n",
              "      <td>82</td>\n",
              "      <td>1</td>\n",
              "    </tr>\n",
              "    <tr>\n",
              "      <th>48</th>\n",
              "      <td>18.0</td>\n",
              "      <td>6</td>\n",
              "      <td>250.0</td>\n",
              "      <td>88.0</td>\n",
              "      <td>3139.0</td>\n",
              "      <td>14.5</td>\n",
              "      <td>71</td>\n",
              "      <td>1</td>\n",
              "    </tr>\n",
              "    <tr>\n",
              "      <th>114</th>\n",
              "      <td>26.0</td>\n",
              "      <td>4</td>\n",
              "      <td>98.0</td>\n",
              "      <td>90.0</td>\n",
              "      <td>2265.0</td>\n",
              "      <td>15.5</td>\n",
              "      <td>73</td>\n",
              "      <td>2</td>\n",
              "    </tr>\n",
              "  </tbody>\n",
              "</table>\n",
              "</div>"
            ],
            "text/plain": [
              "      MPG  Cylinders  Displacement  ...  Acceleration  Model Year  Origin\n",
              "145  32.0          4          83.0  ...          19.0          74       3\n",
              "151  31.0          4          79.0  ...          16.0          74       2\n",
              "388  26.0          4         156.0  ...          14.5          82       1\n",
              "48   18.0          6         250.0  ...          14.5          71       1\n",
              "114  26.0          4          98.0  ...          15.5          73       2\n",
              "\n",
              "[5 rows x 8 columns]"
            ]
          },
          "metadata": {
            "tags": []
          },
          "execution_count": 15
        }
      ]
    },
    {
      "cell_type": "code",
      "metadata": {
        "colab": {
          "base_uri": "https://localhost:8080/",
          "height": 195
        },
        "id": "d40xSVGNMDAu",
        "outputId": "50a9cda4-7f6b-411a-8152-434531eb9703"
      },
      "source": [
        "strat_test_set.head(5)"
      ],
      "execution_count": 16,
      "outputs": [
        {
          "output_type": "execute_result",
          "data": {
            "text/html": [
              "<div>\n",
              "<style scoped>\n",
              "    .dataframe tbody tr th:only-of-type {\n",
              "        vertical-align: middle;\n",
              "    }\n",
              "\n",
              "    .dataframe tbody tr th {\n",
              "        vertical-align: top;\n",
              "    }\n",
              "\n",
              "    .dataframe thead th {\n",
              "        text-align: right;\n",
              "    }\n",
              "</style>\n",
              "<table border=\"1\" class=\"dataframe\">\n",
              "  <thead>\n",
              "    <tr style=\"text-align: right;\">\n",
              "      <th></th>\n",
              "      <th>MPG</th>\n",
              "      <th>Cylinders</th>\n",
              "      <th>Displacement</th>\n",
              "      <th>Horsepower</th>\n",
              "      <th>Weight</th>\n",
              "      <th>Acceleration</th>\n",
              "      <th>Model Year</th>\n",
              "      <th>Origin</th>\n",
              "    </tr>\n",
              "  </thead>\n",
              "  <tbody>\n",
              "    <tr>\n",
              "      <th>128</th>\n",
              "      <td>15.0</td>\n",
              "      <td>6</td>\n",
              "      <td>250.0</td>\n",
              "      <td>100.0</td>\n",
              "      <td>3336.0</td>\n",
              "      <td>17.0</td>\n",
              "      <td>74</td>\n",
              "      <td>1</td>\n",
              "    </tr>\n",
              "    <tr>\n",
              "      <th>100</th>\n",
              "      <td>18.0</td>\n",
              "      <td>6</td>\n",
              "      <td>250.0</td>\n",
              "      <td>88.0</td>\n",
              "      <td>3021.0</td>\n",
              "      <td>16.5</td>\n",
              "      <td>73</td>\n",
              "      <td>1</td>\n",
              "    </tr>\n",
              "    <tr>\n",
              "      <th>330</th>\n",
              "      <td>40.9</td>\n",
              "      <td>4</td>\n",
              "      <td>85.0</td>\n",
              "      <td>93.5</td>\n",
              "      <td>1835.0</td>\n",
              "      <td>17.3</td>\n",
              "      <td>80</td>\n",
              "      <td>2</td>\n",
              "    </tr>\n",
              "    <tr>\n",
              "      <th>57</th>\n",
              "      <td>24.0</td>\n",
              "      <td>4</td>\n",
              "      <td>113.0</td>\n",
              "      <td>95.0</td>\n",
              "      <td>2278.0</td>\n",
              "      <td>15.5</td>\n",
              "      <td>72</td>\n",
              "      <td>3</td>\n",
              "    </tr>\n",
              "    <tr>\n",
              "      <th>160</th>\n",
              "      <td>17.0</td>\n",
              "      <td>6</td>\n",
              "      <td>231.0</td>\n",
              "      <td>110.0</td>\n",
              "      <td>3907.0</td>\n",
              "      <td>21.0</td>\n",
              "      <td>75</td>\n",
              "      <td>1</td>\n",
              "    </tr>\n",
              "  </tbody>\n",
              "</table>\n",
              "</div>"
            ],
            "text/plain": [
              "      MPG  Cylinders  Displacement  ...  Acceleration  Model Year  Origin\n",
              "128  15.0          6         250.0  ...          17.0          74       1\n",
              "100  18.0          6         250.0  ...          16.5          73       1\n",
              "330  40.9          4          85.0  ...          17.3          80       2\n",
              "57   24.0          4         113.0  ...          15.5          72       3\n",
              "160  17.0          6         231.0  ...          21.0          75       1\n",
              "\n",
              "[5 rows x 8 columns]"
            ]
          },
          "metadata": {
            "tags": []
          },
          "execution_count": 16
        }
      ]
    },
    {
      "cell_type": "code",
      "metadata": {
        "colab": {
          "base_uri": "https://localhost:8080/"
        },
        "id": "tRA7p_ZHMF2q",
        "outputId": "97e373f3-1cec-402a-b2b6-b6a9dbb14c21"
      },
      "source": [
        "strat_train_set['Cylinders'].value_counts() / len(strat_train_set)  ## Check the ratio of Cylinderical categories in train"
      ],
      "execution_count": 17,
      "outputs": [
        {
          "output_type": "execute_result",
          "data": {
            "text/plain": [
              "4    0.512579\n",
              "8    0.257862\n",
              "6    0.210692\n",
              "5    0.009434\n",
              "3    0.009434\n",
              "Name: Cylinders, dtype: float64"
            ]
          },
          "metadata": {
            "tags": []
          },
          "execution_count": 17
        }
      ]
    },
    {
      "cell_type": "code",
      "metadata": {
        "colab": {
          "base_uri": "https://localhost:8080/"
        },
        "id": "Q5un-QZ1MK2q",
        "outputId": "154d4207-f05c-4e2e-cacb-462b66ea99b4"
      },
      "source": [
        "strat_test_set['Cylinders'].value_counts() / len(strat_test_set)  ## Check the ratio of Cylinderical categories in test"
      ],
      "execution_count": 18,
      "outputs": [
        {
          "output_type": "execute_result",
          "data": {
            "text/plain": [
              "4    0.5125\n",
              "8    0.2625\n",
              "6    0.2125\n",
              "3    0.0125\n",
              "Name: Cylinders, dtype: float64"
            ]
          },
          "metadata": {
            "tags": []
          },
          "execution_count": 18
        }
      ]
    },
    {
      "cell_type": "code",
      "metadata": {
        "id": "8kcz6GkgMbBt"
      },
      "source": [
        "## Most categories are almost eqaul other that Category 5 . which has very less no.of values "
      ],
      "execution_count": 19,
      "outputs": []
    },
    {
      "cell_type": "code",
      "metadata": {
        "colab": {
          "base_uri": "https://localhost:8080/",
          "height": 343
        },
        "id": "Sfle94RkM9cu",
        "outputId": "892e9f3d-4505-40aa-b523-2781b993fff3"
      },
      "source": [
        "## Lets look into Origin Column .. It is categorical and has discrete values. \r\n",
        "\r\n",
        "## Let us conver these discrete values into some country code to implement one hot encoding \r\n",
        "\r\n",
        "strat_train_set['Origin']  = strat_train_set['Origin'].map({1:'India', 2:'US', 3:'Germany'})\r\n",
        "\r\n",
        "strat_train_set.sample(10)"
      ],
      "execution_count": 20,
      "outputs": [
        {
          "output_type": "execute_result",
          "data": {
            "text/html": [
              "<div>\n",
              "<style scoped>\n",
              "    .dataframe tbody tr th:only-of-type {\n",
              "        vertical-align: middle;\n",
              "    }\n",
              "\n",
              "    .dataframe tbody tr th {\n",
              "        vertical-align: top;\n",
              "    }\n",
              "\n",
              "    .dataframe thead th {\n",
              "        text-align: right;\n",
              "    }\n",
              "</style>\n",
              "<table border=\"1\" class=\"dataframe\">\n",
              "  <thead>\n",
              "    <tr style=\"text-align: right;\">\n",
              "      <th></th>\n",
              "      <th>MPG</th>\n",
              "      <th>Cylinders</th>\n",
              "      <th>Displacement</th>\n",
              "      <th>Horsepower</th>\n",
              "      <th>Weight</th>\n",
              "      <th>Acceleration</th>\n",
              "      <th>Model Year</th>\n",
              "      <th>Origin</th>\n",
              "    </tr>\n",
              "  </thead>\n",
              "  <tbody>\n",
              "    <tr>\n",
              "      <th>8</th>\n",
              "      <td>14.0</td>\n",
              "      <td>8</td>\n",
              "      <td>455.0</td>\n",
              "      <td>225.0</td>\n",
              "      <td>4425.0</td>\n",
              "      <td>10.0</td>\n",
              "      <td>70</td>\n",
              "      <td>India</td>\n",
              "    </tr>\n",
              "    <tr>\n",
              "      <th>349</th>\n",
              "      <td>34.1</td>\n",
              "      <td>4</td>\n",
              "      <td>91.0</td>\n",
              "      <td>68.0</td>\n",
              "      <td>1985.0</td>\n",
              "      <td>16.0</td>\n",
              "      <td>81</td>\n",
              "      <td>Germany</td>\n",
              "    </tr>\n",
              "    <tr>\n",
              "      <th>259</th>\n",
              "      <td>20.8</td>\n",
              "      <td>6</td>\n",
              "      <td>200.0</td>\n",
              "      <td>85.0</td>\n",
              "      <td>3070.0</td>\n",
              "      <td>16.7</td>\n",
              "      <td>78</td>\n",
              "      <td>India</td>\n",
              "    </tr>\n",
              "    <tr>\n",
              "      <th>262</th>\n",
              "      <td>19.2</td>\n",
              "      <td>8</td>\n",
              "      <td>305.0</td>\n",
              "      <td>145.0</td>\n",
              "      <td>3425.0</td>\n",
              "      <td>13.2</td>\n",
              "      <td>78</td>\n",
              "      <td>India</td>\n",
              "    </tr>\n",
              "    <tr>\n",
              "      <th>45</th>\n",
              "      <td>18.0</td>\n",
              "      <td>6</td>\n",
              "      <td>258.0</td>\n",
              "      <td>110.0</td>\n",
              "      <td>2962.0</td>\n",
              "      <td>13.5</td>\n",
              "      <td>71</td>\n",
              "      <td>India</td>\n",
              "    </tr>\n",
              "    <tr>\n",
              "      <th>343</th>\n",
              "      <td>39.1</td>\n",
              "      <td>4</td>\n",
              "      <td>79.0</td>\n",
              "      <td>58.0</td>\n",
              "      <td>1755.0</td>\n",
              "      <td>16.9</td>\n",
              "      <td>81</td>\n",
              "      <td>Germany</td>\n",
              "    </tr>\n",
              "    <tr>\n",
              "      <th>68</th>\n",
              "      <td>13.0</td>\n",
              "      <td>8</td>\n",
              "      <td>350.0</td>\n",
              "      <td>155.0</td>\n",
              "      <td>4502.0</td>\n",
              "      <td>13.5</td>\n",
              "      <td>72</td>\n",
              "      <td>India</td>\n",
              "    </tr>\n",
              "    <tr>\n",
              "      <th>189</th>\n",
              "      <td>15.5</td>\n",
              "      <td>8</td>\n",
              "      <td>304.0</td>\n",
              "      <td>120.0</td>\n",
              "      <td>3962.0</td>\n",
              "      <td>13.9</td>\n",
              "      <td>76</td>\n",
              "      <td>India</td>\n",
              "    </tr>\n",
              "    <tr>\n",
              "      <th>117</th>\n",
              "      <td>29.0</td>\n",
              "      <td>4</td>\n",
              "      <td>68.0</td>\n",
              "      <td>49.0</td>\n",
              "      <td>1867.0</td>\n",
              "      <td>19.5</td>\n",
              "      <td>73</td>\n",
              "      <td>US</td>\n",
              "    </tr>\n",
              "    <tr>\n",
              "      <th>167</th>\n",
              "      <td>29.0</td>\n",
              "      <td>4</td>\n",
              "      <td>97.0</td>\n",
              "      <td>75.0</td>\n",
              "      <td>2171.0</td>\n",
              "      <td>16.0</td>\n",
              "      <td>75</td>\n",
              "      <td>Germany</td>\n",
              "    </tr>\n",
              "  </tbody>\n",
              "</table>\n",
              "</div>"
            ],
            "text/plain": [
              "      MPG  Cylinders  Displacement  ...  Acceleration  Model Year   Origin\n",
              "8    14.0          8         455.0  ...          10.0          70    India\n",
              "349  34.1          4          91.0  ...          16.0          81  Germany\n",
              "259  20.8          6         200.0  ...          16.7          78    India\n",
              "262  19.2          8         305.0  ...          13.2          78    India\n",
              "45   18.0          6         258.0  ...          13.5          71    India\n",
              "343  39.1          4          79.0  ...          16.9          81  Germany\n",
              "68   13.0          8         350.0  ...          13.5          72    India\n",
              "189  15.5          8         304.0  ...          13.9          76    India\n",
              "117  29.0          4          68.0  ...          19.5          73       US\n",
              "167  29.0          4          97.0  ...          16.0          75  Germany\n",
              "\n",
              "[10 rows x 8 columns]"
            ]
          },
          "metadata": {
            "tags": []
          },
          "execution_count": 20
        }
      ]
    },
    {
      "cell_type": "code",
      "metadata": {
        "colab": {
          "base_uri": "https://localhost:8080/",
          "height": 343
        },
        "id": "qbxEn7JeNnyp",
        "outputId": "ddf096ea-dd3c-45ff-9c05-6e601ade1aef"
      },
      "source": [
        "strat_test_set['Origin']  = strat_test_set['Origin'].map({1:'India', 2:'US', 3:'Germany'})\r\n",
        "\r\n",
        "strat_test_set.sample(10)"
      ],
      "execution_count": 21,
      "outputs": [
        {
          "output_type": "execute_result",
          "data": {
            "text/html": [
              "<div>\n",
              "<style scoped>\n",
              "    .dataframe tbody tr th:only-of-type {\n",
              "        vertical-align: middle;\n",
              "    }\n",
              "\n",
              "    .dataframe tbody tr th {\n",
              "        vertical-align: top;\n",
              "    }\n",
              "\n",
              "    .dataframe thead th {\n",
              "        text-align: right;\n",
              "    }\n",
              "</style>\n",
              "<table border=\"1\" class=\"dataframe\">\n",
              "  <thead>\n",
              "    <tr style=\"text-align: right;\">\n",
              "      <th></th>\n",
              "      <th>MPG</th>\n",
              "      <th>Cylinders</th>\n",
              "      <th>Displacement</th>\n",
              "      <th>Horsepower</th>\n",
              "      <th>Weight</th>\n",
              "      <th>Acceleration</th>\n",
              "      <th>Model Year</th>\n",
              "      <th>Origin</th>\n",
              "    </tr>\n",
              "  </thead>\n",
              "  <tbody>\n",
              "    <tr>\n",
              "      <th>159</th>\n",
              "      <td>14.0</td>\n",
              "      <td>8</td>\n",
              "      <td>351.0</td>\n",
              "      <td>148.0</td>\n",
              "      <td>4657.0</td>\n",
              "      <td>13.5</td>\n",
              "      <td>75</td>\n",
              "      <td>India</td>\n",
              "    </tr>\n",
              "    <tr>\n",
              "      <th>374</th>\n",
              "      <td>23.0</td>\n",
              "      <td>4</td>\n",
              "      <td>151.0</td>\n",
              "      <td>93.5</td>\n",
              "      <td>3035.0</td>\n",
              "      <td>20.5</td>\n",
              "      <td>82</td>\n",
              "      <td>India</td>\n",
              "    </tr>\n",
              "    <tr>\n",
              "      <th>284</th>\n",
              "      <td>20.6</td>\n",
              "      <td>6</td>\n",
              "      <td>225.0</td>\n",
              "      <td>110.0</td>\n",
              "      <td>3360.0</td>\n",
              "      <td>16.6</td>\n",
              "      <td>79</td>\n",
              "      <td>India</td>\n",
              "    </tr>\n",
              "    <tr>\n",
              "      <th>213</th>\n",
              "      <td>13.0</td>\n",
              "      <td>8</td>\n",
              "      <td>350.0</td>\n",
              "      <td>145.0</td>\n",
              "      <td>4055.0</td>\n",
              "      <td>12.0</td>\n",
              "      <td>76</td>\n",
              "      <td>India</td>\n",
              "    </tr>\n",
              "    <tr>\n",
              "      <th>171</th>\n",
              "      <td>24.0</td>\n",
              "      <td>4</td>\n",
              "      <td>134.0</td>\n",
              "      <td>96.0</td>\n",
              "      <td>2702.0</td>\n",
              "      <td>13.5</td>\n",
              "      <td>75</td>\n",
              "      <td>Germany</td>\n",
              "    </tr>\n",
              "    <tr>\n",
              "      <th>184</th>\n",
              "      <td>25.0</td>\n",
              "      <td>4</td>\n",
              "      <td>140.0</td>\n",
              "      <td>92.0</td>\n",
              "      <td>2572.0</td>\n",
              "      <td>14.9</td>\n",
              "      <td>76</td>\n",
              "      <td>India</td>\n",
              "    </tr>\n",
              "    <tr>\n",
              "      <th>266</th>\n",
              "      <td>30.0</td>\n",
              "      <td>4</td>\n",
              "      <td>98.0</td>\n",
              "      <td>68.0</td>\n",
              "      <td>2155.0</td>\n",
              "      <td>16.5</td>\n",
              "      <td>78</td>\n",
              "      <td>India</td>\n",
              "    </tr>\n",
              "    <tr>\n",
              "      <th>232</th>\n",
              "      <td>16.0</td>\n",
              "      <td>8</td>\n",
              "      <td>351.0</td>\n",
              "      <td>149.0</td>\n",
              "      <td>4335.0</td>\n",
              "      <td>14.5</td>\n",
              "      <td>77</td>\n",
              "      <td>India</td>\n",
              "    </tr>\n",
              "    <tr>\n",
              "      <th>330</th>\n",
              "      <td>40.9</td>\n",
              "      <td>4</td>\n",
              "      <td>85.0</td>\n",
              "      <td>93.5</td>\n",
              "      <td>1835.0</td>\n",
              "      <td>17.3</td>\n",
              "      <td>80</td>\n",
              "      <td>US</td>\n",
              "    </tr>\n",
              "    <tr>\n",
              "      <th>123</th>\n",
              "      <td>20.0</td>\n",
              "      <td>6</td>\n",
              "      <td>156.0</td>\n",
              "      <td>122.0</td>\n",
              "      <td>2807.0</td>\n",
              "      <td>13.5</td>\n",
              "      <td>73</td>\n",
              "      <td>Germany</td>\n",
              "    </tr>\n",
              "  </tbody>\n",
              "</table>\n",
              "</div>"
            ],
            "text/plain": [
              "      MPG  Cylinders  Displacement  ...  Acceleration  Model Year   Origin\n",
              "159  14.0          8         351.0  ...          13.5          75    India\n",
              "374  23.0          4         151.0  ...          20.5          82    India\n",
              "284  20.6          6         225.0  ...          16.6          79    India\n",
              "213  13.0          8         350.0  ...          12.0          76    India\n",
              "171  24.0          4         134.0  ...          13.5          75  Germany\n",
              "184  25.0          4         140.0  ...          14.9          76    India\n",
              "266  30.0          4          98.0  ...          16.5          78    India\n",
              "232  16.0          8         351.0  ...          14.5          77    India\n",
              "330  40.9          4          85.0  ...          17.3          80       US\n",
              "123  20.0          6         156.0  ...          13.5          73  Germany\n",
              "\n",
              "[10 rows x 8 columns]"
            ]
          },
          "metadata": {
            "tags": []
          },
          "execution_count": 21
        }
      ]
    },
    {
      "cell_type": "code",
      "metadata": {
        "colab": {
          "base_uri": "https://localhost:8080/",
          "height": 195
        },
        "id": "uSJRp086OQGg",
        "outputId": "9e0b5022-d5dd-448e-95ee-c2e4755cff6f"
      },
      "source": [
        "## One Hot encoding\r\n",
        "\r\n",
        "train_set = pd.get_dummies(strat_train_set, prefix='', prefix_sep='')\r\n",
        "\r\n",
        "train_set.head()"
      ],
      "execution_count": 22,
      "outputs": [
        {
          "output_type": "execute_result",
          "data": {
            "text/html": [
              "<div>\n",
              "<style scoped>\n",
              "    .dataframe tbody tr th:only-of-type {\n",
              "        vertical-align: middle;\n",
              "    }\n",
              "\n",
              "    .dataframe tbody tr th {\n",
              "        vertical-align: top;\n",
              "    }\n",
              "\n",
              "    .dataframe thead th {\n",
              "        text-align: right;\n",
              "    }\n",
              "</style>\n",
              "<table border=\"1\" class=\"dataframe\">\n",
              "  <thead>\n",
              "    <tr style=\"text-align: right;\">\n",
              "      <th></th>\n",
              "      <th>MPG</th>\n",
              "      <th>Cylinders</th>\n",
              "      <th>Displacement</th>\n",
              "      <th>Horsepower</th>\n",
              "      <th>Weight</th>\n",
              "      <th>Acceleration</th>\n",
              "      <th>Model Year</th>\n",
              "      <th>Germany</th>\n",
              "      <th>India</th>\n",
              "      <th>US</th>\n",
              "    </tr>\n",
              "  </thead>\n",
              "  <tbody>\n",
              "    <tr>\n",
              "      <th>145</th>\n",
              "      <td>32.0</td>\n",
              "      <td>4</td>\n",
              "      <td>83.0</td>\n",
              "      <td>61.0</td>\n",
              "      <td>2003.0</td>\n",
              "      <td>19.0</td>\n",
              "      <td>74</td>\n",
              "      <td>1</td>\n",
              "      <td>0</td>\n",
              "      <td>0</td>\n",
              "    </tr>\n",
              "    <tr>\n",
              "      <th>151</th>\n",
              "      <td>31.0</td>\n",
              "      <td>4</td>\n",
              "      <td>79.0</td>\n",
              "      <td>67.0</td>\n",
              "      <td>2000.0</td>\n",
              "      <td>16.0</td>\n",
              "      <td>74</td>\n",
              "      <td>0</td>\n",
              "      <td>0</td>\n",
              "      <td>1</td>\n",
              "    </tr>\n",
              "    <tr>\n",
              "      <th>388</th>\n",
              "      <td>26.0</td>\n",
              "      <td>4</td>\n",
              "      <td>156.0</td>\n",
              "      <td>92.0</td>\n",
              "      <td>2585.0</td>\n",
              "      <td>14.5</td>\n",
              "      <td>82</td>\n",
              "      <td>0</td>\n",
              "      <td>1</td>\n",
              "      <td>0</td>\n",
              "    </tr>\n",
              "    <tr>\n",
              "      <th>48</th>\n",
              "      <td>18.0</td>\n",
              "      <td>6</td>\n",
              "      <td>250.0</td>\n",
              "      <td>88.0</td>\n",
              "      <td>3139.0</td>\n",
              "      <td>14.5</td>\n",
              "      <td>71</td>\n",
              "      <td>0</td>\n",
              "      <td>1</td>\n",
              "      <td>0</td>\n",
              "    </tr>\n",
              "    <tr>\n",
              "      <th>114</th>\n",
              "      <td>26.0</td>\n",
              "      <td>4</td>\n",
              "      <td>98.0</td>\n",
              "      <td>90.0</td>\n",
              "      <td>2265.0</td>\n",
              "      <td>15.5</td>\n",
              "      <td>73</td>\n",
              "      <td>0</td>\n",
              "      <td>0</td>\n",
              "      <td>1</td>\n",
              "    </tr>\n",
              "  </tbody>\n",
              "</table>\n",
              "</div>"
            ],
            "text/plain": [
              "      MPG  Cylinders  Displacement  Horsepower  ...  Model Year  Germany  India  US\n",
              "145  32.0          4          83.0        61.0  ...          74        1      0   0\n",
              "151  31.0          4          79.0        67.0  ...          74        0      0   1\n",
              "388  26.0          4         156.0        92.0  ...          82        0      1   0\n",
              "48   18.0          6         250.0        88.0  ...          71        0      1   0\n",
              "114  26.0          4          98.0        90.0  ...          73        0      0   1\n",
              "\n",
              "[5 rows x 10 columns]"
            ]
          },
          "metadata": {
            "tags": []
          },
          "execution_count": 22
        }
      ]
    },
    {
      "cell_type": "code",
      "metadata": {
        "colab": {
          "base_uri": "https://localhost:8080/",
          "height": 195
        },
        "id": "Jc8K0RlLOf4S",
        "outputId": "b7fadebe-c88f-4693-8b9b-c2081d45be98"
      },
      "source": [
        "test_set = pd.get_dummies(strat_test_set, prefix='', prefix_sep='')\r\n",
        "\r\n",
        "test_set.head()"
      ],
      "execution_count": 23,
      "outputs": [
        {
          "output_type": "execute_result",
          "data": {
            "text/html": [
              "<div>\n",
              "<style scoped>\n",
              "    .dataframe tbody tr th:only-of-type {\n",
              "        vertical-align: middle;\n",
              "    }\n",
              "\n",
              "    .dataframe tbody tr th {\n",
              "        vertical-align: top;\n",
              "    }\n",
              "\n",
              "    .dataframe thead th {\n",
              "        text-align: right;\n",
              "    }\n",
              "</style>\n",
              "<table border=\"1\" class=\"dataframe\">\n",
              "  <thead>\n",
              "    <tr style=\"text-align: right;\">\n",
              "      <th></th>\n",
              "      <th>MPG</th>\n",
              "      <th>Cylinders</th>\n",
              "      <th>Displacement</th>\n",
              "      <th>Horsepower</th>\n",
              "      <th>Weight</th>\n",
              "      <th>Acceleration</th>\n",
              "      <th>Model Year</th>\n",
              "      <th>Germany</th>\n",
              "      <th>India</th>\n",
              "      <th>US</th>\n",
              "    </tr>\n",
              "  </thead>\n",
              "  <tbody>\n",
              "    <tr>\n",
              "      <th>128</th>\n",
              "      <td>15.0</td>\n",
              "      <td>6</td>\n",
              "      <td>250.0</td>\n",
              "      <td>100.0</td>\n",
              "      <td>3336.0</td>\n",
              "      <td>17.0</td>\n",
              "      <td>74</td>\n",
              "      <td>0</td>\n",
              "      <td>1</td>\n",
              "      <td>0</td>\n",
              "    </tr>\n",
              "    <tr>\n",
              "      <th>100</th>\n",
              "      <td>18.0</td>\n",
              "      <td>6</td>\n",
              "      <td>250.0</td>\n",
              "      <td>88.0</td>\n",
              "      <td>3021.0</td>\n",
              "      <td>16.5</td>\n",
              "      <td>73</td>\n",
              "      <td>0</td>\n",
              "      <td>1</td>\n",
              "      <td>0</td>\n",
              "    </tr>\n",
              "    <tr>\n",
              "      <th>330</th>\n",
              "      <td>40.9</td>\n",
              "      <td>4</td>\n",
              "      <td>85.0</td>\n",
              "      <td>93.5</td>\n",
              "      <td>1835.0</td>\n",
              "      <td>17.3</td>\n",
              "      <td>80</td>\n",
              "      <td>0</td>\n",
              "      <td>0</td>\n",
              "      <td>1</td>\n",
              "    </tr>\n",
              "    <tr>\n",
              "      <th>57</th>\n",
              "      <td>24.0</td>\n",
              "      <td>4</td>\n",
              "      <td>113.0</td>\n",
              "      <td>95.0</td>\n",
              "      <td>2278.0</td>\n",
              "      <td>15.5</td>\n",
              "      <td>72</td>\n",
              "      <td>1</td>\n",
              "      <td>0</td>\n",
              "      <td>0</td>\n",
              "    </tr>\n",
              "    <tr>\n",
              "      <th>160</th>\n",
              "      <td>17.0</td>\n",
              "      <td>6</td>\n",
              "      <td>231.0</td>\n",
              "      <td>110.0</td>\n",
              "      <td>3907.0</td>\n",
              "      <td>21.0</td>\n",
              "      <td>75</td>\n",
              "      <td>0</td>\n",
              "      <td>1</td>\n",
              "      <td>0</td>\n",
              "    </tr>\n",
              "  </tbody>\n",
              "</table>\n",
              "</div>"
            ],
            "text/plain": [
              "      MPG  Cylinders  Displacement  Horsepower  ...  Model Year  Germany  India  US\n",
              "128  15.0          6         250.0       100.0  ...          74        0      1   0\n",
              "100  18.0          6         250.0        88.0  ...          73        0      1   0\n",
              "330  40.9          4          85.0        93.5  ...          80        0      0   1\n",
              "57   24.0          4         113.0        95.0  ...          72        1      0   0\n",
              "160  17.0          6         231.0       110.0  ...          75        0      1   0\n",
              "\n",
              "[5 rows x 10 columns]"
            ]
          },
          "metadata": {
            "tags": []
          },
          "execution_count": 23
        }
      ]
    },
    {
      "cell_type": "code",
      "metadata": {
        "colab": {
          "base_uri": "https://localhost:8080/"
        },
        "id": "ci9mtCePOn-O",
        "outputId": "3da41853-a0a6-41e0-f1d6-5ab31116073a"
      },
      "source": [
        "## Testing for new variables — Analyze the correlation of each variable with the target variable\r\n",
        "\r\n",
        "\r\n",
        "data['displacement_on_power'] = data['Displacement'] / data['Horsepower']\r\n",
        "data['weight_on_cylinder'] = data['Weight'] / data['Cylinders']\r\n",
        "data['acceleration_on_power'] = data['Acceleration'] / data['Horsepower']\r\n",
        "data['acceleration_on_cyl'] = data['Acceleration'] / data['Cylinders']\r\n",
        "\r\n",
        "corr_matrix = data.corr()\r\n",
        "corr_matrix['MPG'].sort_values(ascending=False)"
      ],
      "execution_count": 24,
      "outputs": [
        {
          "output_type": "execute_result",
          "data": {
            "text/plain": [
              "MPG                      1.000000\n",
              "acceleration_on_cyl      0.732133\n",
              "acceleration_on_power    0.704240\n",
              "Model Year               0.579267\n",
              "Origin                   0.563450\n",
              "Acceleration             0.420289\n",
              "weight_on_cylinder      -0.020778\n",
              "displacement_on_power   -0.577236\n",
              "Horsepower              -0.773453\n",
              "Cylinders               -0.775396\n",
              "Displacement            -0.804203\n",
              "Weight                  -0.831741\n",
              "Name: MPG, dtype: float64"
            ]
          },
          "metadata": {
            "tags": []
          },
          "execution_count": 24
        }
      ]
    },
    {
      "cell_type": "code",
      "metadata": {
        "id": "uF2BHGMsO4pW"
      },
      "source": [
        "## Observation is  acceleration_on_power and acceleration_on_cyl as two new variables which turned out to be \r\n",
        "## more positively correlated than the original variables.\r\n",
        "\r\n"
      ],
      "execution_count": 25,
      "outputs": []
    },
    {
      "cell_type": "code",
      "metadata": {
        "colab": {
          "base_uri": "https://localhost:8080/"
        },
        "id": "yvwp14bOPGNB",
        "outputId": "76459d0c-0c6a-4e47-b849-b9fdda78d0e7"
      },
      "source": [
        "## Let us do Some Data Preparation using sklearn \r\n",
        "\r\n",
        "# Preprocessing categorical attribute using OnehotEncoder . We have already done using pandas.get_dummies \r\n",
        "\r\n",
        "from sklearn.preprocessing import OneHotEncoder\r\n",
        "\r\n",
        "cat_encoder = OneHotEncoder()\r\n",
        "\r\n",
        "data_cat_1hot = cat_encoder.fit_transform(data)\r\n",
        "data_cat_1hot   # returns a sparse matrix as most of the new columns becomes 0. \r\n",
        "\r\n",
        "data_cat_1hot.toarray()[:5]"
      ],
      "execution_count": 26,
      "outputs": [
        {
          "output_type": "execute_result",
          "data": {
            "text/plain": [
              "array([[0., 0., 0., ..., 0., 0., 0.],\n",
              "       [0., 0., 0., ..., 0., 0., 0.],\n",
              "       [0., 0., 0., ..., 0., 0., 0.],\n",
              "       [0., 0., 0., ..., 0., 0., 0.],\n",
              "       [0., 0., 0., ..., 0., 0., 0.]])"
            ]
          },
          "metadata": {
            "tags": []
          },
          "execution_count": 26
        }
      ]
    },
    {
      "cell_type": "code",
      "metadata": {
        "colab": {
          "base_uri": "https://localhost:8080/"
        },
        "id": "1QGgv8lJP6UW",
        "outputId": "0b23e48b-7e89-4478-8485-a4e34ee53593"
      },
      "source": [
        "## Let use create custom feature \r\n",
        "\r\n",
        "# acc_on_power — Acceleration divided by Horsepower\r\n",
        "# acc_on_cyl — Acceleration divided by the number of Cylinders\r\n",
        "\r\n",
        "\r\n",
        "from sklearn.base import BaseEstimator, TransformerMixin\r\n",
        "\r\n",
        "acc_ix, hpower_ix, cyl_ix = 4, 2, 0\r\n",
        "\r\n",
        "##custom class inheriting the BaseEstimator and TransformerMixin\r\n",
        "class CustomAttrAdder(BaseEstimator, TransformerMixin):\r\n",
        "    def __init__(self, acc_on_power=True):\r\n",
        "        self.acc_on_power = acc_on_power  # new optional variable\r\n",
        "    def fit(self, X, y=None):\r\n",
        "        return self  # nothing else to do\r\n",
        "    def transform(self, X):\r\n",
        "        acc_on_cyl = X[:, acc_ix] / X[:, cyl_ix] # required new variable\r\n",
        "        if self.acc_on_power:\r\n",
        "            acc_on_power = X[:, acc_ix] / X[:, hpower_ix]\r\n",
        "            return np.c_[X, acc_on_power, acc_on_cyl] # returns a 2D array\r\n",
        "        \r\n",
        "        return np.c_[X, acc_on_cyl]\r\n",
        "    \r\n",
        "attr_adder = CustomAttrAdder(acc_on_power=True)\r\n",
        "data_tr_extra_attrs = attr_adder.transform(data.values)\r\n",
        "data_tr_extra_attrs[0]"
      ],
      "execution_count": 27,
      "outputs": [
        {
          "output_type": "execute_result",
          "data": {
            "text/plain": [
              "array([1.80000000e+01, 8.00000000e+00, 3.07000000e+02, 1.30000000e+02,\n",
              "       3.50400000e+03, 1.20000000e+01, 7.00000000e+01, 1.00000000e+00,\n",
              "       2.36153846e+00, 4.38000000e+02, 9.23076923e-02, 1.50000000e+00,\n",
              "       1.14136808e+01, 1.94666667e+02])"
            ]
          },
          "metadata": {
            "tags": []
          },
          "execution_count": 27
        }
      ]
    },
    {
      "cell_type": "code",
      "metadata": {
        "id": "9yB3uH3fQf9N"
      },
      "source": [
        "## Let us set up data transformation pipeline for numerical and categorical attributes \r\n",
        "\r\n",
        "from sklearn.pipeline import Pipeline\r\n",
        "from sklearn.impute import SimpleImputer\r\n",
        "from sklearn.preprocessing import StandardScaler\r\n",
        "from sklearn.compose import ColumnTransformer\r\n",
        "\r\n",
        "def num_pipeline_transformer(data):\r\n",
        "  '''\r\n",
        "    Function to process numerical transformations\r\n",
        "    Argument:\r\n",
        "        data: original dataframe \r\n",
        "    Returns:\r\n",
        "        num_attrs: numerical dataframe\r\n",
        "        num_pipeline: numerical pipeline object\r\n",
        "        \r\n",
        "    '''\r\n",
        "\r\n",
        "  numerics = ['float64', 'int64']\r\n",
        "\r\n",
        "  num_attrs = data.select_dtypes(include=numerics)\r\n",
        "\r\n",
        "  num_pipeline = Pipeline([\r\n",
        "        ('imputer', SimpleImputer(strategy=\"median\")),\r\n",
        "        ('attrs_adder', CustomAttrAdder()),\r\n",
        "        ('std_scaler', StandardScaler()),\r\n",
        "        ])\r\n",
        "  return num_attrs, num_pipeline"
      ],
      "execution_count": 28,
      "outputs": []
    },
    {
      "cell_type": "code",
      "metadata": {
        "id": "cDYEbOHKRBhw"
      },
      "source": [
        "## Combined Pipeline for both numerical and categorical transformer \r\n",
        "\r\n",
        "def pipeline_transformer(data):\r\n",
        "  '''\r\n",
        "    Complete transformation pipeline for both\r\n",
        "    nuerical and categorical data.\r\n",
        "    \r\n",
        "    Argument:\r\n",
        "        data: original dataframe \r\n",
        "    Returns:\r\n",
        "        prepared_data: transformed data, ready to use\r\n",
        "  '''\r\n",
        "  cat_attrs = [\"Origin\"]\r\n",
        "  num_attrs, num_pipeline = num_pipeline_transformer(data)\r\n",
        "  full_pipeline = ColumnTransformer([\r\n",
        "        (\"num\", num_pipeline, list(num_attrs)),\r\n",
        "        (\"cat\", OneHotEncoder(), cat_attrs),\r\n",
        "        ])\r\n",
        "  prepared_data = full_pipeline.fit_transform(data)\r\n",
        "  return prepared_data"
      ],
      "execution_count": 29,
      "outputs": []
    },
    {
      "cell_type": "markdown",
      "metadata": {
        "id": "W2MUnODKS1fH"
      },
      "source": [
        ""
      ]
    },
    {
      "cell_type": "code",
      "metadata": {
        "id": "0Yn1y_jIRRBj"
      },
      "source": [
        "## Method to convert Origin column with categories \r\n",
        "\r\n",
        "def preprocess_origin_cols(df):\r\n",
        "  df[\"Origin\"] = df[\"Origin\"].map({1: \"India\", 2: \"USA\", 3: \"Germany\"})    \r\n",
        "  return df"
      ],
      "execution_count": 30,
      "outputs": []
    },
    {
      "cell_type": "code",
      "metadata": {
        "colab": {
          "base_uri": "https://localhost:8080/",
          "height": 438
        },
        "id": "ONY4p06ZReUf",
        "outputId": "06dc4aa1-3820-4e1c-99f8-0dee3f014e61"
      },
      "source": [
        "## Calling the pipeline transformer \r\n",
        "\r\n",
        "data = preprocess_origin_cols(data)\r\n",
        "\r\n",
        "data"
      ],
      "execution_count": 31,
      "outputs": [
        {
          "output_type": "execute_result",
          "data": {
            "text/html": [
              "<div>\n",
              "<style scoped>\n",
              "    .dataframe tbody tr th:only-of-type {\n",
              "        vertical-align: middle;\n",
              "    }\n",
              "\n",
              "    .dataframe tbody tr th {\n",
              "        vertical-align: top;\n",
              "    }\n",
              "\n",
              "    .dataframe thead th {\n",
              "        text-align: right;\n",
              "    }\n",
              "</style>\n",
              "<table border=\"1\" class=\"dataframe\">\n",
              "  <thead>\n",
              "    <tr style=\"text-align: right;\">\n",
              "      <th></th>\n",
              "      <th>MPG</th>\n",
              "      <th>Cylinders</th>\n",
              "      <th>Displacement</th>\n",
              "      <th>Horsepower</th>\n",
              "      <th>Weight</th>\n",
              "      <th>Acceleration</th>\n",
              "      <th>Model Year</th>\n",
              "      <th>Origin</th>\n",
              "      <th>displacement_on_power</th>\n",
              "      <th>weight_on_cylinder</th>\n",
              "      <th>acceleration_on_power</th>\n",
              "      <th>acceleration_on_cyl</th>\n",
              "    </tr>\n",
              "  </thead>\n",
              "  <tbody>\n",
              "    <tr>\n",
              "      <th>0</th>\n",
              "      <td>18.0</td>\n",
              "      <td>8</td>\n",
              "      <td>307.0</td>\n",
              "      <td>130.0</td>\n",
              "      <td>3504.0</td>\n",
              "      <td>12.0</td>\n",
              "      <td>70</td>\n",
              "      <td>India</td>\n",
              "      <td>2.361538</td>\n",
              "      <td>438.000</td>\n",
              "      <td>0.092308</td>\n",
              "      <td>1.5000</td>\n",
              "    </tr>\n",
              "    <tr>\n",
              "      <th>1</th>\n",
              "      <td>15.0</td>\n",
              "      <td>8</td>\n",
              "      <td>350.0</td>\n",
              "      <td>165.0</td>\n",
              "      <td>3693.0</td>\n",
              "      <td>11.5</td>\n",
              "      <td>70</td>\n",
              "      <td>India</td>\n",
              "      <td>2.121212</td>\n",
              "      <td>461.625</td>\n",
              "      <td>0.069697</td>\n",
              "      <td>1.4375</td>\n",
              "    </tr>\n",
              "    <tr>\n",
              "      <th>2</th>\n",
              "      <td>18.0</td>\n",
              "      <td>8</td>\n",
              "      <td>318.0</td>\n",
              "      <td>150.0</td>\n",
              "      <td>3436.0</td>\n",
              "      <td>11.0</td>\n",
              "      <td>70</td>\n",
              "      <td>India</td>\n",
              "      <td>2.120000</td>\n",
              "      <td>429.500</td>\n",
              "      <td>0.073333</td>\n",
              "      <td>1.3750</td>\n",
              "    </tr>\n",
              "    <tr>\n",
              "      <th>3</th>\n",
              "      <td>16.0</td>\n",
              "      <td>8</td>\n",
              "      <td>304.0</td>\n",
              "      <td>150.0</td>\n",
              "      <td>3433.0</td>\n",
              "      <td>12.0</td>\n",
              "      <td>70</td>\n",
              "      <td>India</td>\n",
              "      <td>2.026667</td>\n",
              "      <td>429.125</td>\n",
              "      <td>0.080000</td>\n",
              "      <td>1.5000</td>\n",
              "    </tr>\n",
              "    <tr>\n",
              "      <th>4</th>\n",
              "      <td>17.0</td>\n",
              "      <td>8</td>\n",
              "      <td>302.0</td>\n",
              "      <td>140.0</td>\n",
              "      <td>3449.0</td>\n",
              "      <td>10.5</td>\n",
              "      <td>70</td>\n",
              "      <td>India</td>\n",
              "      <td>2.157143</td>\n",
              "      <td>431.125</td>\n",
              "      <td>0.075000</td>\n",
              "      <td>1.3125</td>\n",
              "    </tr>\n",
              "    <tr>\n",
              "      <th>...</th>\n",
              "      <td>...</td>\n",
              "      <td>...</td>\n",
              "      <td>...</td>\n",
              "      <td>...</td>\n",
              "      <td>...</td>\n",
              "      <td>...</td>\n",
              "      <td>...</td>\n",
              "      <td>...</td>\n",
              "      <td>...</td>\n",
              "      <td>...</td>\n",
              "      <td>...</td>\n",
              "      <td>...</td>\n",
              "    </tr>\n",
              "    <tr>\n",
              "      <th>393</th>\n",
              "      <td>27.0</td>\n",
              "      <td>4</td>\n",
              "      <td>140.0</td>\n",
              "      <td>86.0</td>\n",
              "      <td>2790.0</td>\n",
              "      <td>15.6</td>\n",
              "      <td>82</td>\n",
              "      <td>India</td>\n",
              "      <td>1.627907</td>\n",
              "      <td>697.500</td>\n",
              "      <td>0.181395</td>\n",
              "      <td>3.9000</td>\n",
              "    </tr>\n",
              "    <tr>\n",
              "      <th>394</th>\n",
              "      <td>44.0</td>\n",
              "      <td>4</td>\n",
              "      <td>97.0</td>\n",
              "      <td>52.0</td>\n",
              "      <td>2130.0</td>\n",
              "      <td>24.6</td>\n",
              "      <td>82</td>\n",
              "      <td>USA</td>\n",
              "      <td>1.865385</td>\n",
              "      <td>532.500</td>\n",
              "      <td>0.473077</td>\n",
              "      <td>6.1500</td>\n",
              "    </tr>\n",
              "    <tr>\n",
              "      <th>395</th>\n",
              "      <td>32.0</td>\n",
              "      <td>4</td>\n",
              "      <td>135.0</td>\n",
              "      <td>84.0</td>\n",
              "      <td>2295.0</td>\n",
              "      <td>11.6</td>\n",
              "      <td>82</td>\n",
              "      <td>India</td>\n",
              "      <td>1.607143</td>\n",
              "      <td>573.750</td>\n",
              "      <td>0.138095</td>\n",
              "      <td>2.9000</td>\n",
              "    </tr>\n",
              "    <tr>\n",
              "      <th>396</th>\n",
              "      <td>28.0</td>\n",
              "      <td>4</td>\n",
              "      <td>120.0</td>\n",
              "      <td>79.0</td>\n",
              "      <td>2625.0</td>\n",
              "      <td>18.6</td>\n",
              "      <td>82</td>\n",
              "      <td>India</td>\n",
              "      <td>1.518987</td>\n",
              "      <td>656.250</td>\n",
              "      <td>0.235443</td>\n",
              "      <td>4.6500</td>\n",
              "    </tr>\n",
              "    <tr>\n",
              "      <th>397</th>\n",
              "      <td>31.0</td>\n",
              "      <td>4</td>\n",
              "      <td>119.0</td>\n",
              "      <td>82.0</td>\n",
              "      <td>2720.0</td>\n",
              "      <td>19.4</td>\n",
              "      <td>82</td>\n",
              "      <td>India</td>\n",
              "      <td>1.451220</td>\n",
              "      <td>680.000</td>\n",
              "      <td>0.236585</td>\n",
              "      <td>4.8500</td>\n",
              "    </tr>\n",
              "  </tbody>\n",
              "</table>\n",
              "<p>398 rows × 12 columns</p>\n",
              "</div>"
            ],
            "text/plain": [
              "      MPG  Cylinders  ...  acceleration_on_power  acceleration_on_cyl\n",
              "0    18.0          8  ...               0.092308               1.5000\n",
              "1    15.0          8  ...               0.069697               1.4375\n",
              "2    18.0          8  ...               0.073333               1.3750\n",
              "3    16.0          8  ...               0.080000               1.5000\n",
              "4    17.0          8  ...               0.075000               1.3125\n",
              "..    ...        ...  ...                    ...                  ...\n",
              "393  27.0          4  ...               0.181395               3.9000\n",
              "394  44.0          4  ...               0.473077               6.1500\n",
              "395  32.0          4  ...               0.138095               2.9000\n",
              "396  28.0          4  ...               0.235443               4.6500\n",
              "397  31.0          4  ...               0.236585               4.8500\n",
              "\n",
              "[398 rows x 12 columns]"
            ]
          },
          "metadata": {
            "tags": []
          },
          "execution_count": 31
        }
      ]
    },
    {
      "cell_type": "code",
      "metadata": {
        "id": "aEzXXGNjRrf_"
      },
      "source": [
        "prepared_data = pipeline_transformer(data)"
      ],
      "execution_count": 32,
      "outputs": []
    },
    {
      "cell_type": "code",
      "metadata": {
        "colab": {
          "base_uri": "https://localhost:8080/"
        },
        "id": "4QKhu8eMV6tQ",
        "outputId": "5fe516c1-dd36-4782-b03f-c7d42783c2ca"
      },
      "source": [
        "prepared_data"
      ],
      "execution_count": 33,
      "outputs": [
        {
          "output_type": "execute_result",
          "data": {
            "text/plain": [
              "array([[-0.7064387 ,  1.49819126,  1.0906037 , ...,  0.        ,\n",
              "         1.        ,  0.        ],\n",
              "       [-1.09075062,  1.49819126,  1.5035143 , ...,  0.        ,\n",
              "         1.        ,  0.        ],\n",
              "       [-0.7064387 ,  1.49819126,  1.19623199, ...,  0.        ,\n",
              "         1.        ,  0.        ],\n",
              "       ...,\n",
              "       [ 1.08701694, -0.85632057, -0.56103873, ...,  0.        ,\n",
              "         1.        ,  0.        ],\n",
              "       [ 0.57460104, -0.85632057, -0.70507731, ...,  0.        ,\n",
              "         1.        ,  0.        ],\n",
              "       [ 0.95891297, -0.85632057, -0.71467988, ...,  0.        ,\n",
              "         1.        ,  0.        ]])"
            ]
          },
          "metadata": {
            "tags": []
          },
          "execution_count": 33
        }
      ]
    },
    {
      "cell_type": "code",
      "metadata": {
        "colab": {
          "base_uri": "https://localhost:8080/"
        },
        "id": "qzoz1teLXlbI",
        "outputId": "900e7aba-ecbc-4748-8a8c-a2b195297391"
      },
      "source": [
        "## Let us start Building Models Now \r\n",
        "\r\n",
        "\r\n",
        "\r\n",
        "### Linear Regression \r\n",
        "\r\n",
        "from sklearn.linear_model import LinearRegression\r\n",
        "\r\n",
        "data_labels = data['MPG']\r\n",
        "\r\n",
        "print (prepared_data.shape)\r\n",
        "data_labels.shape"
      ],
      "execution_count": 34,
      "outputs": [
        {
          "output_type": "stream",
          "text": [
            "(398, 16)\n"
          ],
          "name": "stdout"
        },
        {
          "output_type": "execute_result",
          "data": {
            "text/plain": [
              "(398,)"
            ]
          },
          "metadata": {
            "tags": []
          },
          "execution_count": 34
        }
      ]
    },
    {
      "cell_type": "code",
      "metadata": {
        "colab": {
          "base_uri": "https://localhost:8080/"
        },
        "id": "EFFYL2FMX1Kw",
        "outputId": "09db07f4-93dc-4b0a-e2e2-3220a8c1c1d5"
      },
      "source": [
        "lin_reg = LinearRegression()\r\n",
        "lin_reg.fit(prepared_data, data_labels)\r\n",
        "\r\n",
        "\r\n"
      ],
      "execution_count": 35,
      "outputs": [
        {
          "output_type": "execute_result",
          "data": {
            "text/plain": [
              "LinearRegression(copy_X=True, fit_intercept=True, n_jobs=None, normalize=False)"
            ]
          },
          "metadata": {
            "tags": []
          },
          "execution_count": 35
        }
      ]
    },
    {
      "cell_type": "code",
      "metadata": {
        "id": "nhr-xAJZY55U"
      },
      "source": [
        "from sklearn.metrics import mean_squared_error\r\n",
        "\r\n",
        "mpg_predictions = lin_reg.predict(prepared_data)\r\n",
        "lin_mse = mean_squared_error(data_labels, mpg_predictions)\r\n",
        "lin_rmse = np.sqrt(lin_mse)"
      ],
      "execution_count": 36,
      "outputs": []
    },
    {
      "cell_type": "code",
      "metadata": {
        "colab": {
          "base_uri": "https://localhost:8080/"
        },
        "id": "q_YZWWvLa2fB",
        "outputId": "35bec82b-eb35-4f04-e5fe-70bdab8b2548"
      },
      "source": [
        "lin_rmse"
      ],
      "execution_count": 37,
      "outputs": [
        {
          "output_type": "execute_result",
          "data": {
            "text/plain": [
              "2.1906732278799723e-14"
            ]
          },
          "metadata": {
            "tags": []
          },
          "execution_count": 37
        }
      ]
    },
    {
      "cell_type": "code",
      "metadata": {
        "id": "3dids3fea5oF"
      },
      "source": [
        "## MSE is around 2.19 which is not bad . "
      ],
      "execution_count": 38,
      "outputs": []
    },
    {
      "cell_type": "code",
      "metadata": {
        "colab": {
          "base_uri": "https://localhost:8080/"
        },
        "id": "h0dchlVabIWA",
        "outputId": "2c4ea3ac-5375-45f9-d223-32b26683d45f"
      },
      "source": [
        "\r\n",
        "from sklearn.tree import DecisionTreeRegressor\r\n",
        "\r\n",
        "dtree = DecisionTreeRegressor()\r\n",
        "dtree.fit(prepared_data, data_labels)"
      ],
      "execution_count": 39,
      "outputs": [
        {
          "output_type": "execute_result",
          "data": {
            "text/plain": [
              "DecisionTreeRegressor(ccp_alpha=0.0, criterion='mse', max_depth=None,\n",
              "                      max_features=None, max_leaf_nodes=None,\n",
              "                      min_impurity_decrease=0.0, min_impurity_split=None,\n",
              "                      min_samples_leaf=1, min_samples_split=2,\n",
              "                      min_weight_fraction_leaf=0.0, presort='deprecated',\n",
              "                      random_state=None, splitter='best')"
            ]
          },
          "metadata": {
            "tags": []
          },
          "execution_count": 39
        }
      ]
    },
    {
      "cell_type": "code",
      "metadata": {
        "id": "UOKrGfbUbMak"
      },
      "source": [
        "mpg_predictions = dtree.predict(prepared_data)\r\n",
        "dtree_mse = mean_squared_error(data_labels, mpg_predictions)\r\n",
        "dtree_rmse = np.sqrt(dtree_mse)"
      ],
      "execution_count": 40,
      "outputs": []
    },
    {
      "cell_type": "code",
      "metadata": {
        "colab": {
          "base_uri": "https://localhost:8080/"
        },
        "id": "sxIIp87BbmYN",
        "outputId": "a4a7dbc9-ec42-45b5-9fe5-c33f14cf5557"
      },
      "source": [
        "dtree_rmse"
      ],
      "execution_count": 41,
      "outputs": [
        {
          "output_type": "execute_result",
          "data": {
            "text/plain": [
              "0.0"
            ]
          },
          "metadata": {
            "tags": []
          },
          "execution_count": 41
        }
      ]
    },
    {
      "cell_type": "code",
      "metadata": {
        "colab": {
          "base_uri": "https://localhost:8080/"
        },
        "id": "HHwpUzogbnqq",
        "outputId": "45795e63-d1b9-499f-a4ef-6a32ac41f2ab"
      },
      "source": [
        "dtree_mse"
      ],
      "execution_count": 42,
      "outputs": [
        {
          "output_type": "execute_result",
          "data": {
            "text/plain": [
              "0.0"
            ]
          },
          "metadata": {
            "tags": []
          },
          "execution_count": 42
        }
      ]
    },
    {
      "cell_type": "code",
      "metadata": {
        "colab": {
          "base_uri": "https://localhost:8080/"
        },
        "id": "UV9bwyqObwvr",
        "outputId": "6a70b6a2-bf6e-4c7e-ca8d-3d79e0bac553"
      },
      "source": [
        "## RandomForestRegressor \r\n",
        "\r\n",
        "from sklearn.ensemble import RandomForestRegressor\r\n",
        "\r\n",
        "rf = RandomForestRegressor(n_estimators=1000, max_depth=5, )\r\n",
        "rf.fit(prepared_data, data_labels)\r\n",
        "\r\n",
        "mpg_predictions = rf.predict(prepared_data)\r\n",
        "rf_mse = mean_squared_error(data_labels, mpg_predictions)\r\n",
        "rf_rmse = np.sqrt(rf_mse)\r\n",
        "\r\n",
        "print (rf_mse)\r\n",
        "print(rf_rmse)"
      ],
      "execution_count": 43,
      "outputs": [
        {
          "output_type": "stream",
          "text": [
            "0.02052863132813223\n",
            "0.14327816068100618\n"
          ],
          "name": "stdout"
        }
      ]
    },
    {
      "cell_type": "code",
      "metadata": {
        "colab": {
          "base_uri": "https://localhost:8080/"
        },
        "id": "FT4dpJqeckMv",
        "outputId": "924b8299-3397-446f-e76e-44de07716dd1"
      },
      "source": [
        "## SVM Regressor \r\n",
        "\r\n",
        "from sklearn.svm import SVR\r\n",
        "\r\n",
        "\r\n",
        "svr = SVR(kernel='linear')\r\n",
        "svr.fit(prepared_data, data_labels)\r\n",
        "\r\n",
        "mpg_predictions = svr.predict(prepared_data)\r\n",
        "svr_mse = mean_squared_error(data_labels, mpg_predictions)\r\n",
        "svr_rmse = np.sqrt(rf_mse)\r\n",
        "\r\n",
        "print (svr_mse)\r\n",
        "print(svr_rmse)"
      ],
      "execution_count": 44,
      "outputs": [
        {
          "output_type": "stream",
          "text": [
            "0.0020036028702485613\n",
            "0.14327816068100618\n"
          ],
          "name": "stdout"
        }
      ]
    },
    {
      "cell_type": "code",
      "metadata": {
        "id": "NFYezP6WdSvX"
      },
      "source": [
        "## MSE is very much low for SVM "
      ],
      "execution_count": 45,
      "outputs": []
    },
    {
      "cell_type": "code",
      "metadata": {
        "id": "BSTdHg_odpeR"
      },
      "source": [
        "#### Cross_val_score \r\n",
        "\r\n",
        "from sklearn.model_selection import cross_val_score\r\n",
        "\r\n",
        "scores = cross_val_score(svr, \r\n",
        "                         prepared_data, \r\n",
        "                         data_labels, \r\n",
        "                         scoring=\"neg_mean_squared_error\", \r\n",
        "                         cv = 10)\r\n",
        "svr_reg_rmse_scores = np.sqrt(-scores)"
      ],
      "execution_count": 46,
      "outputs": []
    },
    {
      "cell_type": "code",
      "metadata": {
        "colab": {
          "base_uri": "https://localhost:8080/"
        },
        "id": "s59GuhsMdtto",
        "outputId": "46874717-9a6f-40f8-b43b-23075ae0155e"
      },
      "source": [
        "svr_reg_rmse_scores"
      ],
      "execution_count": 47,
      "outputs": [
        {
          "output_type": "execute_result",
          "data": {
            "text/plain": [
              "array([0.09172825, 0.02696308, 0.04962345, 0.04076522, 0.03603693,\n",
              "       0.04183493, 0.05906593, 0.05156985, 0.06615489, 0.06204876])"
            ]
          },
          "metadata": {
            "tags": []
          },
          "execution_count": 47
        }
      ]
    },
    {
      "cell_type": "code",
      "metadata": {
        "colab": {
          "base_uri": "https://localhost:8080/"
        },
        "id": "Ku1ShSw8dzIO",
        "outputId": "99138ce0-5d61-4792-f9b6-87406e9339b9"
      },
      "source": [
        "svr_reg_rmse_scores.mean()"
      ],
      "execution_count": 48,
      "outputs": [
        {
          "output_type": "execute_result",
          "data": {
            "text/plain": [
              "0.052579128612818014"
            ]
          },
          "metadata": {
            "tags": []
          },
          "execution_count": 48
        }
      ]
    },
    {
      "cell_type": "code",
      "metadata": {
        "colab": {
          "base_uri": "https://localhost:8080/"
        },
        "id": "A1zVkJMzd3Av",
        "outputId": "1bf7d7e5-d48d-4cf6-a753-34be8f9e3684"
      },
      "source": [
        "## Fine Tuning Parameters using GridSearchCV \r\n",
        "\r\n",
        "from sklearn.model_selection import GridSearchCV\r\n",
        "\r\n",
        "param_grid = [\r\n",
        "    {'n_estimators': [3, 10, 30], 'max_features': [2, 4, 6, 8]},\r\n",
        "    {'bootstrap': [False], 'n_estimators': [3, 10], 'max_features': [2, 3, 4]},\r\n",
        "  ]\r\n",
        "\r\n",
        "forest_reg = RandomForestRegressor()\r\n",
        "\r\n",
        "grid_search = GridSearchCV(forest_reg, param_grid,\r\n",
        "                           scoring='neg_mean_squared_error',\r\n",
        "                           return_train_score=True,\r\n",
        "                           cv=10,\r\n",
        "                          )\r\n",
        "\r\n",
        "grid_search.fit(prepared_data, data_labels)"
      ],
      "execution_count": 49,
      "outputs": [
        {
          "output_type": "execute_result",
          "data": {
            "text/plain": [
              "GridSearchCV(cv=10, error_score=nan,\n",
              "             estimator=RandomForestRegressor(bootstrap=True, ccp_alpha=0.0,\n",
              "                                             criterion='mse', max_depth=None,\n",
              "                                             max_features='auto',\n",
              "                                             max_leaf_nodes=None,\n",
              "                                             max_samples=None,\n",
              "                                             min_impurity_decrease=0.0,\n",
              "                                             min_impurity_split=None,\n",
              "                                             min_samples_leaf=1,\n",
              "                                             min_samples_split=2,\n",
              "                                             min_weight_fraction_leaf=0.0,\n",
              "                                             n_estimators=100, n_jobs=None,\n",
              "                                             oob_score=False, random_state=None,\n",
              "                                             verbose=0, warm_start=False),\n",
              "             iid='deprecated', n_jobs=None,\n",
              "             param_grid=[{'max_features': [2, 4, 6, 8],\n",
              "                          'n_estimators': [3, 10, 30]},\n",
              "                         {'bootstrap': [False], 'max_features': [2, 3, 4],\n",
              "                          'n_estimators': [3, 10]}],\n",
              "             pre_dispatch='2*n_jobs', refit=True, return_train_score=True,\n",
              "             scoring='neg_mean_squared_error', verbose=0)"
            ]
          },
          "metadata": {
            "tags": []
          },
          "execution_count": 49
        }
      ]
    },
    {
      "cell_type": "code",
      "metadata": {
        "colab": {
          "base_uri": "https://localhost:8080/"
        },
        "id": "8tGAjF62eIDP",
        "outputId": "1b9ded6d-bcc3-4b29-e4df-1e5626620352"
      },
      "source": [
        "grid_search.best_estimator_"
      ],
      "execution_count": 50,
      "outputs": [
        {
          "output_type": "execute_result",
          "data": {
            "text/plain": [
              "RandomForestRegressor(bootstrap=True, ccp_alpha=0.0, criterion='mse',\n",
              "                      max_depth=None, max_features=8, max_leaf_nodes=None,\n",
              "                      max_samples=None, min_impurity_decrease=0.0,\n",
              "                      min_impurity_split=None, min_samples_leaf=1,\n",
              "                      min_samples_split=2, min_weight_fraction_leaf=0.0,\n",
              "                      n_estimators=30, n_jobs=None, oob_score=False,\n",
              "                      random_state=None, verbose=0, warm_start=False)"
            ]
          },
          "metadata": {
            "tags": []
          },
          "execution_count": 50
        }
      ]
    },
    {
      "cell_type": "code",
      "metadata": {
        "colab": {
          "base_uri": "https://localhost:8080/"
        },
        "id": "g0gI3oeaeLmY",
        "outputId": "20f569d5-b8d5-4b4d-b133-bc9fd10f8447"
      },
      "source": [
        "cv_scores = grid_search.cv_results_\r\n",
        "\r\n",
        "for mean_score, params in zip(cv_scores['mean_test_score'], cv_scores['params']):\r\n",
        "  print(np.sqrt(-mean_score), params)\r\n",
        "\r\n"
      ],
      "execution_count": 51,
      "outputs": [
        {
          "output_type": "stream",
          "text": [
            "2.250090042516121 {'max_features': 2, 'n_estimators': 3}\n",
            "2.0187389961595787 {'max_features': 2, 'n_estimators': 10}\n",
            "1.927646968024315 {'max_features': 2, 'n_estimators': 30}\n",
            "1.9798530658594748 {'max_features': 4, 'n_estimators': 3}\n",
            "1.4480650484751658 {'max_features': 4, 'n_estimators': 10}\n",
            "1.1939461540636662 {'max_features': 4, 'n_estimators': 30}\n",
            "1.6360956059805405 {'max_features': 6, 'n_estimators': 3}\n",
            "1.0167539285796008 {'max_features': 6, 'n_estimators': 10}\n",
            "0.9592263045164855 {'max_features': 6, 'n_estimators': 30}\n",
            "1.1995824890969975 {'max_features': 8, 'n_estimators': 3}\n",
            "0.8146554919184062 {'max_features': 8, 'n_estimators': 10}\n",
            "0.7550380379467236 {'max_features': 8, 'n_estimators': 30}\n",
            "2.202942347351602 {'bootstrap': False, 'max_features': 2, 'n_estimators': 3}\n",
            "1.865063599657993 {'bootstrap': False, 'max_features': 2, 'n_estimators': 10}\n",
            "1.670205985556283 {'bootstrap': False, 'max_features': 3, 'n_estimators': 3}\n",
            "1.6451230645261459 {'bootstrap': False, 'max_features': 3, 'n_estimators': 10}\n",
            "1.4634061952539672 {'bootstrap': False, 'max_features': 4, 'n_estimators': 3}\n",
            "1.1363217989501173 {'bootstrap': False, 'max_features': 4, 'n_estimators': 10}\n"
          ],
          "name": "stdout"
        }
      ]
    },
    {
      "cell_type": "code",
      "metadata": {
        "colab": {
          "base_uri": "https://localhost:8080/"
        },
        "id": "NVr7PlnPek7y",
        "outputId": "5f3514a6-3334-4e23-f5d9-1cf383685a62"
      },
      "source": [
        "### Checking Feature Importance \r\n",
        "\r\n",
        "feature_importances = grid_search.best_estimator_.feature_importances_\r\n",
        "\r\n",
        "feature_importances"
      ],
      "execution_count": 52,
      "outputs": [
        {
          "output_type": "execute_result",
          "data": {
            "text/plain": [
              "array([5.56388704e-01, 4.48725752e-02, 4.15487550e-02, 1.57532018e-02,\n",
              "       3.07481102e-02, 1.80258776e-03, 1.01160723e-02, 3.56045328e-03,\n",
              "       8.99447196e-03, 1.16078134e-02, 2.02863111e-02, 2.12034526e-03,\n",
              "       2.51770671e-01, 2.85156382e-04, 3.49223427e-05, 1.09848944e-04])"
            ]
          },
          "metadata": {
            "tags": []
          },
          "execution_count": 52
        }
      ]
    },
    {
      "cell_type": "code",
      "metadata": {
        "colab": {
          "base_uri": "https://localhost:8080/"
        },
        "id": "L7tgrz6Se-Ri",
        "outputId": "3f241f40-d90e-43b7-da13-449d710332fb"
      },
      "source": [
        "extra_attrs = [\"acc_on_power\", \"acc_on_cyl\"]\r\n",
        "numerics = ['float64', 'int64']\r\n",
        "num_attrs = list(data.select_dtypes(include=numerics))\r\n",
        "\r\n",
        "attrs = num_attrs + extra_attrs\r\n",
        "sorted(zip(attrs, feature_importances), reverse=True)\r\n"
      ],
      "execution_count": 53,
      "outputs": [
        {
          "output_type": "execute_result",
          "data": {
            "text/plain": [
              "[('weight_on_cylinder', 0.008994471959427614),\n",
              " ('displacement_on_power', 0.003560453281560924),\n",
              " ('acceleration_on_power', 0.011607813422200988),\n",
              " ('acceleration_on_cyl', 0.020286311102554227),\n",
              " ('acc_on_power', 0.0021203452575902053),\n",
              " ('acc_on_cyl', 0.2517706707595025),\n",
              " ('Weight', 0.030748110177113954),\n",
              " ('Model Year', 0.010116072280152212),\n",
              " ('MPG', 0.5563887042752874),\n",
              " ('Horsepower', 0.015753201844950188),\n",
              " ('Displacement', 0.04154875497675705),\n",
              " ('Cylinders', 0.04487257523775358),\n",
              " ('Acceleration', 0.001802587756991127)]"
            ]
          },
          "metadata": {
            "tags": []
          },
          "execution_count": 53
        }
      ]
    },
    {
      "cell_type": "code",
      "metadata": {
        "id": "K9uKZeThfG8O"
      },
      "source": [
        "## acc_on_cyl has more feature_importance . the derived feature \r\n"
      ],
      "execution_count": 54,
      "outputs": []
    },
    {
      "cell_type": "code",
      "metadata": {
        "colab": {
          "base_uri": "https://localhost:8080/",
          "height": 402
        },
        "id": "sblIPUGlfwDt",
        "outputId": "851e3176-7b73-493c-bf3b-9b9278decaf4"
      },
      "source": [
        "## Evaluate entire system \r\n",
        "\r\n",
        "\r\n",
        "##capturing the best configuration\r\n",
        "final_model = grid_search.best_estimator_\r\n",
        "\r\n",
        "##segregating the target variable from test set\r\n",
        "X_test = strat_test_set.drop(\"MPG\", axis=1)\r\n",
        "y_test = strat_test_set[\"MPG\"].copy()\r\n",
        "\r\n",
        "\r\n",
        "strat_test_set"
      ],
      "execution_count": 55,
      "outputs": [
        {
          "output_type": "execute_result",
          "data": {
            "text/html": [
              "<div>\n",
              "<style scoped>\n",
              "    .dataframe tbody tr th:only-of-type {\n",
              "        vertical-align: middle;\n",
              "    }\n",
              "\n",
              "    .dataframe tbody tr th {\n",
              "        vertical-align: top;\n",
              "    }\n",
              "\n",
              "    .dataframe thead th {\n",
              "        text-align: right;\n",
              "    }\n",
              "</style>\n",
              "<table border=\"1\" class=\"dataframe\">\n",
              "  <thead>\n",
              "    <tr style=\"text-align: right;\">\n",
              "      <th></th>\n",
              "      <th>MPG</th>\n",
              "      <th>Cylinders</th>\n",
              "      <th>Displacement</th>\n",
              "      <th>Horsepower</th>\n",
              "      <th>Weight</th>\n",
              "      <th>Acceleration</th>\n",
              "      <th>Model Year</th>\n",
              "      <th>Origin</th>\n",
              "    </tr>\n",
              "  </thead>\n",
              "  <tbody>\n",
              "    <tr>\n",
              "      <th>128</th>\n",
              "      <td>15.0</td>\n",
              "      <td>6</td>\n",
              "      <td>250.0</td>\n",
              "      <td>100.0</td>\n",
              "      <td>3336.0</td>\n",
              "      <td>17.0</td>\n",
              "      <td>74</td>\n",
              "      <td>India</td>\n",
              "    </tr>\n",
              "    <tr>\n",
              "      <th>100</th>\n",
              "      <td>18.0</td>\n",
              "      <td>6</td>\n",
              "      <td>250.0</td>\n",
              "      <td>88.0</td>\n",
              "      <td>3021.0</td>\n",
              "      <td>16.5</td>\n",
              "      <td>73</td>\n",
              "      <td>India</td>\n",
              "    </tr>\n",
              "    <tr>\n",
              "      <th>330</th>\n",
              "      <td>40.9</td>\n",
              "      <td>4</td>\n",
              "      <td>85.0</td>\n",
              "      <td>93.5</td>\n",
              "      <td>1835.0</td>\n",
              "      <td>17.3</td>\n",
              "      <td>80</td>\n",
              "      <td>US</td>\n",
              "    </tr>\n",
              "    <tr>\n",
              "      <th>57</th>\n",
              "      <td>24.0</td>\n",
              "      <td>4</td>\n",
              "      <td>113.0</td>\n",
              "      <td>95.0</td>\n",
              "      <td>2278.0</td>\n",
              "      <td>15.5</td>\n",
              "      <td>72</td>\n",
              "      <td>Germany</td>\n",
              "    </tr>\n",
              "    <tr>\n",
              "      <th>160</th>\n",
              "      <td>17.0</td>\n",
              "      <td>6</td>\n",
              "      <td>231.0</td>\n",
              "      <td>110.0</td>\n",
              "      <td>3907.0</td>\n",
              "      <td>21.0</td>\n",
              "      <td>75</td>\n",
              "      <td>India</td>\n",
              "    </tr>\n",
              "    <tr>\n",
              "      <th>...</th>\n",
              "      <td>...</td>\n",
              "      <td>...</td>\n",
              "      <td>...</td>\n",
              "      <td>...</td>\n",
              "      <td>...</td>\n",
              "      <td>...</td>\n",
              "      <td>...</td>\n",
              "      <td>...</td>\n",
              "    </tr>\n",
              "    <tr>\n",
              "      <th>266</th>\n",
              "      <td>30.0</td>\n",
              "      <td>4</td>\n",
              "      <td>98.0</td>\n",
              "      <td>68.0</td>\n",
              "      <td>2155.0</td>\n",
              "      <td>16.5</td>\n",
              "      <td>78</td>\n",
              "      <td>India</td>\n",
              "    </tr>\n",
              "    <tr>\n",
              "      <th>389</th>\n",
              "      <td>22.0</td>\n",
              "      <td>6</td>\n",
              "      <td>232.0</td>\n",
              "      <td>112.0</td>\n",
              "      <td>2835.0</td>\n",
              "      <td>14.7</td>\n",
              "      <td>82</td>\n",
              "      <td>India</td>\n",
              "    </tr>\n",
              "    <tr>\n",
              "      <th>217</th>\n",
              "      <td>30.0</td>\n",
              "      <td>4</td>\n",
              "      <td>111.0</td>\n",
              "      <td>80.0</td>\n",
              "      <td>2155.0</td>\n",
              "      <td>14.8</td>\n",
              "      <td>77</td>\n",
              "      <td>India</td>\n",
              "    </tr>\n",
              "    <tr>\n",
              "      <th>66</th>\n",
              "      <td>17.0</td>\n",
              "      <td>8</td>\n",
              "      <td>304.0</td>\n",
              "      <td>150.0</td>\n",
              "      <td>3672.0</td>\n",
              "      <td>11.5</td>\n",
              "      <td>72</td>\n",
              "      <td>India</td>\n",
              "    </tr>\n",
              "    <tr>\n",
              "      <th>240</th>\n",
              "      <td>30.5</td>\n",
              "      <td>4</td>\n",
              "      <td>97.0</td>\n",
              "      <td>78.0</td>\n",
              "      <td>2190.0</td>\n",
              "      <td>14.1</td>\n",
              "      <td>77</td>\n",
              "      <td>US</td>\n",
              "    </tr>\n",
              "  </tbody>\n",
              "</table>\n",
              "<p>80 rows × 8 columns</p>\n",
              "</div>"
            ],
            "text/plain": [
              "      MPG  Cylinders  Displacement  ...  Acceleration  Model Year   Origin\n",
              "128  15.0          6         250.0  ...          17.0          74    India\n",
              "100  18.0          6         250.0  ...          16.5          73    India\n",
              "330  40.9          4          85.0  ...          17.3          80       US\n",
              "57   24.0          4         113.0  ...          15.5          72  Germany\n",
              "160  17.0          6         231.0  ...          21.0          75    India\n",
              "..    ...        ...           ...  ...           ...         ...      ...\n",
              "266  30.0          4          98.0  ...          16.5          78    India\n",
              "389  22.0          6         232.0  ...          14.7          82    India\n",
              "217  30.0          4         111.0  ...          14.8          77    India\n",
              "66   17.0          8         304.0  ...          11.5          72    India\n",
              "240  30.5          4          97.0  ...          14.1          77       US\n",
              "\n",
              "[80 rows x 8 columns]"
            ]
          },
          "metadata": {
            "tags": []
          },
          "execution_count": 55
        }
      ]
    },
    {
      "cell_type": "code",
      "metadata": {
        "colab": {
          "base_uri": "https://localhost:8080/"
        },
        "id": "g5wQ3z-Gg6B-",
        "outputId": "4882369d-e03f-40c2-a209-06f1f6be7b3d"
      },
      "source": [
        "print (X_test)"
      ],
      "execution_count": 56,
      "outputs": [
        {
          "output_type": "stream",
          "text": [
            "     Cylinders  Displacement  Horsepower  ...  Acceleration  Model Year   Origin\n",
            "128          6         250.0       100.0  ...          17.0          74    India\n",
            "100          6         250.0        88.0  ...          16.5          73    India\n",
            "330          4          85.0        93.5  ...          17.3          80       US\n",
            "57           4         113.0        95.0  ...          15.5          72  Germany\n",
            "160          6         231.0       110.0  ...          21.0          75    India\n",
            "..         ...           ...         ...  ...           ...         ...      ...\n",
            "266          4          98.0        68.0  ...          16.5          78    India\n",
            "389          6         232.0       112.0  ...          14.7          82    India\n",
            "217          4         111.0        80.0  ...          14.8          77    India\n",
            "66           8         304.0       150.0  ...          11.5          72    India\n",
            "240          4          97.0        78.0  ...          14.1          77       US\n",
            "\n",
            "[80 rows x 7 columns]\n"
          ],
          "name": "stdout"
        }
      ]
    },
    {
      "cell_type": "code",
      "metadata": {
        "id": "k1OWqzUljoqi"
      },
      "source": [
        "X_test['Origin'] = X_test[\"Origin\"].map({\"India\":1, \"US\":2, \"Germany\":3})  \r\n"
      ],
      "execution_count": 57,
      "outputs": []
    },
    {
      "cell_type": "code",
      "metadata": {
        "id": "IhihQcnxjBWl"
      },
      "source": [
        "\r\n",
        "#X_test_preprocessed = preprocess_origin_cols(X_test)\r\n"
      ],
      "execution_count": 58,
      "outputs": []
    },
    {
      "cell_type": "code",
      "metadata": {
        "id": "CECow-Kon76q"
      },
      "source": [
        "X_test_prepared = pipeline_transformer(X_test)\r\n",
        "\r\n"
      ],
      "execution_count": 62,
      "outputs": []
    },
    {
      "cell_type": "code",
      "metadata": {
        "id": "9DgQ0daEpi4g"
      },
      "source": [
        "# ##making final predictions\r\n",
        "\r\n",
        "final_predictions = final_model.predict(X_test_prepared)\r\n",
        "final_mse = mean_squared_error(y_test, final_predictions)\r\n",
        "final_rmse = np.sqrt(final_mse)\r\n",
        "\r\n"
      ],
      "execution_count": 64,
      "outputs": []
    },
    {
      "cell_type": "code",
      "metadata": {
        "colab": {
          "base_uri": "https://localhost:8080/"
        },
        "id": "Zf4tbYbIfZfz",
        "outputId": "086ff409-6acb-406c-9b2a-ad810a7363f2"
      },
      "source": [
        "final_rmse"
      ],
      "execution_count": 65,
      "outputs": [
        {
          "output_type": "execute_result",
          "data": {
            "text/plain": [
              "13.355612345044728"
            ]
          },
          "metadata": {
            "tags": []
          },
          "execution_count": 65
        }
      ]
    },
    {
      "cell_type": "code",
      "metadata": {
        "colab": {
          "base_uri": "https://localhost:8080/"
        },
        "id": "DXnKp2WbnBSb",
        "outputId": "0eba4b29-7ad5-491f-89b8-ba4a8d2b72e1"
      },
      "source": [
        "# ## Save the tuned model into pickle \r\n",
        "\r\n",
        "import pickle \r\n",
        "\r\n",
        "with open('/content/reg_model.pkl', 'wb') as fle:\r\n",
        "  pickle.dump(final_model, fle)\r\n",
        "\r\n",
        "print('Final Model Saved ')"
      ],
      "execution_count": 66,
      "outputs": [
        {
          "output_type": "stream",
          "text": [
            "Final Model Saved \n"
          ],
          "name": "stdout"
        }
      ]
    },
    {
      "cell_type": "code",
      "metadata": {
        "id": "8VFwzrmzrvJ7"
      },
      "source": [
        ""
      ],
      "execution_count": null,
      "outputs": []
    }
  ]
}